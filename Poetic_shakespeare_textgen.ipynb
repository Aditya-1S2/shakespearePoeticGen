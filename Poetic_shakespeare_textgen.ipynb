{
  "nbformat": 4,
  "nbformat_minor": 0,
  "metadata": {
    "colab": {
      "provenance": [],
      "authorship_tag": "ABX9TyOzIyVdMPqNOX643HTM2iQr",
      "include_colab_link": true
    },
    "kernelspec": {
      "name": "python3",
      "display_name": "Python 3"
    },
    "language_info": {
      "name": "python"
    }
  },
  "cells": [
    {
      "cell_type": "markdown",
      "metadata": {
        "id": "view-in-github",
        "colab_type": "text"
      },
      "source": [
        "<a href=\"https://colab.research.google.com/github/Aditya-1S2/shakespearePoeticGen/blob/main/Poetic_shakespeare_textgen.ipynb\" target=\"_parent\"><img src=\"https://colab.research.google.com/assets/colab-badge.svg\" alt=\"Open In Colab\"/></a>"
      ]
    },
    {
      "cell_type": "code",
      "execution_count": 1,
      "metadata": {
        "colab": {
          "base_uri": "https://localhost:8080/"
        },
        "id": "lO2CWE5dtfOp",
        "outputId": "94e30b1e-7d89-47bd-a370-8c67c4344b53"
      },
      "outputs": [
        {
          "output_type": "stream",
          "name": "stdout",
          "text": [
            "Mounted at /content/drive\n"
          ]
        }
      ],
      "source": [
        "from google.colab import drive\n",
        "drive.mount('/content/drive')"
      ]
    },
    {
      "cell_type": "code",
      "source": [
        "pip install keras"
      ],
      "metadata": {
        "colab": {
          "base_uri": "https://localhost:8080/"
        },
        "id": "PqOXW7zht-tA",
        "outputId": "5f88e4f2-1c7c-456c-9176-673f3d781a9e"
      },
      "execution_count": 4,
      "outputs": [
        {
          "output_type": "stream",
          "name": "stdout",
          "text": [
            "Requirement already satisfied: keras in /usr/local/lib/python3.10/dist-packages (3.4.1)\n",
            "Requirement already satisfied: absl-py in /usr/local/lib/python3.10/dist-packages (from keras) (1.4.0)\n",
            "Requirement already satisfied: numpy in /usr/local/lib/python3.10/dist-packages (from keras) (1.26.4)\n",
            "Requirement already satisfied: rich in /usr/local/lib/python3.10/dist-packages (from keras) (13.9.2)\n",
            "Requirement already satisfied: namex in /usr/local/lib/python3.10/dist-packages (from keras) (0.0.8)\n",
            "Requirement already satisfied: h5py in /usr/local/lib/python3.10/dist-packages (from keras) (3.11.0)\n",
            "Requirement already satisfied: optree in /usr/local/lib/python3.10/dist-packages (from keras) (0.13.0)\n",
            "Requirement already satisfied: ml-dtypes in /usr/local/lib/python3.10/dist-packages (from keras) (0.4.1)\n",
            "Requirement already satisfied: packaging in /usr/local/lib/python3.10/dist-packages (from keras) (24.1)\n",
            "Requirement already satisfied: typing-extensions>=4.5.0 in /usr/local/lib/python3.10/dist-packages (from optree->keras) (4.12.2)\n",
            "Requirement already satisfied: markdown-it-py>=2.2.0 in /usr/local/lib/python3.10/dist-packages (from rich->keras) (3.0.0)\n",
            "Requirement already satisfied: pygments<3.0.0,>=2.13.0 in /usr/local/lib/python3.10/dist-packages (from rich->keras) (2.18.0)\n",
            "Requirement already satisfied: mdurl~=0.1 in /usr/local/lib/python3.10/dist-packages (from markdown-it-py>=2.2.0->rich->keras) (0.1.2)\n"
          ]
        }
      ]
    },
    {
      "cell_type": "code",
      "source": [
        "import random\n",
        "import numpy as np\n",
        "import tensorflow as tf\n",
        "from tensorflow.keras.layers import LSTM, Dense, Activation, Input\n",
        "from tensorflow.keras.models import Sequential\n",
        "from tensorflow.keras.optimizers import RMSprop"
      ],
      "metadata": {
        "id": "cGxpnuVktkkT"
      },
      "execution_count": 8,
      "outputs": []
    },
    {
      "cell_type": "code",
      "source": [
        "\n",
        "# Load the dataset\n",
        "filepath = tf.keras.utils.get_file('shakespeare.txt', 'https://storage.googleapis.com/download.tensorflow.org/data/shakespeare.txt')\n",
        "\n",
        "# Preprocess the text\n",
        "text = open(filepath, 'rb').read().decode(encoding='utf-8').lower()\n",
        "text = text[200000:700000]  # Using a specific range for better performance\n",
        "\n",
        "characters = sorted(set(text))\n",
        "char_to_index = {c: i for i, c in enumerate(characters)}\n",
        "index_to_char = {i: c for i, c in enumerate(characters)}\n",
        "\n",
        "# Sequence parameters\n",
        "SEQ_LENGTH = 42\n",
        "STEP_SIZE = 3\n",
        "\n",
        "sentences = []\n",
        "next_char = []\n",
        "\n",
        "for i in range(0, len(text) - SEQ_LENGTH, STEP_SIZE):\n",
        "    sentences.append(text[i: i + SEQ_LENGTH])\n",
        "    next_char.append(text[i + SEQ_LENGTH])\n",
        "\n",
        "# Prepare input and output data\n",
        "x = np.zeros((len(sentences), SEQ_LENGTH, len(characters)), dtype=np.bool_)\n",
        "y = np.zeros((len(sentences), len(characters)), dtype=np.bool_)\n",
        "\n",
        "for i, satz in enumerate(sentences):\n",
        "    for t, char in enumerate(satz):\n",
        "        x[i, t, char_to_index[char]] = 1\n",
        "    y[i, char_to_index[next_char[i]]] = 1\n",
        "\n",
        "# Build the model\n",
        "model = Sequential()\n",
        "model.add(Input(shape=(SEQ_LENGTH, len(characters))))  # Use Input layer\n",
        "model.add(LSTM(128))\n",
        "model.add(Dense(len(characters)))\n",
        "model.add(Activation('softmax'))\n",
        "\n",
        "# Compile the model\n",
        "model.compile(loss='categorical_crossentropy', optimizer=RMSprop(learning_rate=0.01))  # Change lr to learning_rate\n",
        "\n",
        "# Train the model\n",
        "model.fit(x, y, batch_size=256, epochs=4)\n",
        "\n",
        "# Save the model to Google Drive\n",
        "model.save('/content/drive/My Drive/shakespearetextgen.h5')  # Adjust the path as needed"
      ],
      "metadata": {
        "colab": {
          "base_uri": "https://localhost:8080/"
        },
        "id": "XiuyY0kDvJ4i",
        "outputId": "c33cffc3-4039-454a-d579-02ed33c27fe4"
      },
      "execution_count": 11,
      "outputs": [
        {
          "output_type": "stream",
          "name": "stdout",
          "text": [
            "Epoch 1/4\n",
            "\u001b[1m651/651\u001b[0m \u001b[32m━━━━━━━━━━━━━━━━━━━━\u001b[0m\u001b[37m\u001b[0m \u001b[1m124s\u001b[0m 188ms/step - loss: 2.6564\n",
            "Epoch 2/4\n",
            "\u001b[1m651/651\u001b[0m \u001b[32m━━━━━━━━━━━━━━━━━━━━\u001b[0m\u001b[37m\u001b[0m \u001b[1m135s\u001b[0m 177ms/step - loss: 1.8511\n",
            "Epoch 3/4\n",
            "\u001b[1m651/651\u001b[0m \u001b[32m━━━━━━━━━━━━━━━━━━━━\u001b[0m\u001b[37m\u001b[0m \u001b[1m139s\u001b[0m 172ms/step - loss: 1.6572\n",
            "Epoch 4/4\n",
            "\u001b[1m651/651\u001b[0m \u001b[32m━━━━━━━━━━━━━━━━━━━━\u001b[0m\u001b[37m\u001b[0m \u001b[1m142s\u001b[0m 173ms/step - loss: 1.5573\n"
          ]
        },
        {
          "output_type": "stream",
          "name": "stderr",
          "text": [
            "WARNING:absl:You are saving your model as an HDF5 file via `model.save()` or `keras.saving.save_model(model)`. This file format is considered legacy. We recommend using instead the native Keras format, e.g. `model.save('my_model.keras')` or `keras.saving.save_model(model, 'my_model.keras')`. \n"
          ]
        }
      ]
    },
    {
      "cell_type": "code",
      "source": [
        "model.save('/content/drive/My Drive/shakespearetextgen.keras')  # Adjust the path as needed"
      ],
      "metadata": {
        "id": "6F2ZhCiAt2oU"
      },
      "execution_count": 12,
      "outputs": []
    },
    {
      "cell_type": "code",
      "source": [],
      "metadata": {
        "id": "pEMeBJd-9zVB"
      },
      "execution_count": null,
      "outputs": []
    },
    {
      "cell_type": "code",
      "source": [
        "model = tf.keras.models. load_model ('/content/drive/MyDrive/shakespearetextgen.keras')"
      ],
      "metadata": {
        "id": "w77Ohbcm9zg4"
      },
      "execution_count": 14,
      "outputs": []
    },
    {
      "cell_type": "code",
      "source": [
        "def sample(preds, temperature=1.0):\n",
        "    preds = np.asarray(preds).astype('float64')\n",
        "    preds = np.log(preds) / temperature\n",
        "    exp_preds = np.exp(preds)\n",
        "    preds = exp_preds / np.sum(exp_preds)\n",
        "    probas = np.random.multinomial(1, preds, 1)\n",
        "    return np.argmax(probas)"
      ],
      "metadata": {
        "id": "Q8KkWQNE-NQm"
      },
      "execution_count": 15,
      "outputs": []
    },
    {
      "cell_type": "markdown",
      "source": [
        "This helper function called sample is copied from the official Keras tutorial.\n",
        "\n",
        "Link to the tutorial: https://keras.io/examples/lstm_text_generation/"
      ],
      "metadata": {
        "id": "43fUuOWy-gPd"
      }
    },
    {
      "cell_type": "code",
      "source": [
        "def generate_text(length, temperature):\n",
        "    start_index = random.randint(0, len(text) - SEQ_LENGTH - 1)\n",
        "    generated = ''\n",
        "    sentence = text[start_index: start_index + SEQ_LENGTH]\n",
        "    generated += sentence\n",
        "    for i in range(length):\n",
        "        x_predictions = np.zeros((1, SEQ_LENGTH, len(characters)))\n",
        "        for t, char in enumerate(sentence):\n",
        "            x_predictions[0, t, char_to_index[char]] = 1\n",
        "\n",
        "        predictions = model.predict(x_predictions, verbose=0)[0]\n",
        "        next_index = sample(predictions,\n",
        "                                 temperature)\n",
        "        next_character = index_to_char[next_index]\n",
        "\n",
        "        generated += next_character\n",
        "        sentence = sentence[1:] + next_character\n",
        "    return generated"
      ],
      "metadata": {
        "id": "GCa021DK-NTj"
      },
      "execution_count": 16,
      "outputs": []
    },
    {
      "cell_type": "markdown",
      "source": [],
      "metadata": {
        "id": "b_1v5r1i-eUF"
      }
    },
    {
      "cell_type": "code",
      "source": [
        "print(\"------0.2------\")\n",
        "print(generate_text(300, 0.2))\n",
        "print(\"------0.4------\")\n",
        "print(generate_text(300, 0.4))\n",
        "print(\"------0.6------\")\n",
        "print(generate_text(300, 0.5))\n",
        "print(\"------0.8------\")\n",
        "print(generate_text(300, 0.8))\n",
        "print(\"------1------\")\n",
        "print(generate_text(300, 1))\n"
      ],
      "metadata": {
        "colab": {
          "base_uri": "https://localhost:8080/"
        },
        "id": "_yEtAvxL-NWX",
        "outputId": "dac0115d-df09-4d81-ab02-ae1199c4f15c"
      },
      "execution_count": 18,
      "outputs": [
        {
          "output_type": "stream",
          "name": "stdout",
          "text": [
            "------0.2------\n",
            "oo late, i fear me, noble lord,\n",
            "hath clouds of the prove the sould the soness to be the hall.\n",
            "\n",
            "king richard iii:\n",
            "and the soul, the sear the bolingbroke, and soul,\n",
            "and the sent the faulest the see the death.\n",
            "\n",
            "king richard iii:\n",
            "why the same to me, the sear the souls,\n",
            "and the sent the sunce and me to the sould\n",
            "to me the bolingbroke and soul th\n",
            "------0.4------\n",
            " for his sake pity me,\n",
            "lest in revenge the god the daughter be thou art.\n",
            "\n",
            "buckingham:\n",
            "what, i persour lambence the sear the sunder.\n",
            "\n",
            "king richard iii:\n",
            "may, well, and the sear the seen and marrame.\n",
            "\n",
            "king richard iii:\n",
            "what i soul, the more me to the done the faires.\n",
            "\n",
            "king richard iii:\n",
            "why the more the stand the fall the soness\n",
            "the fall the ki\n",
            "------0.6------\n",
            "hat murderer, which way ran he?\n",
            "\n",
            "benvolio:\n",
            "\n",
            "queen margaret:\n",
            "i have my lord did for the more do blood,\n",
            "and say the daunty the bolingbroke, but my death,\n",
            "which for your fear you hendathor duke,\n",
            "and marram the doad new and the dear;\n",
            "that i our hear and the sungers with my son\n",
            "and the soul to my true alas confence a bloody:\n",
            "the bath and the moo\n",
            "------0.8------\n",
            "t at my house; hear all, all see,\n",
            "and like a torthing thou lest my slauls,\n",
            "and my bruchled to must mint mistrance.\n",
            "\n",
            "queen melingbroke:\n",
            "kunter enouse alast a could, my goness more.\n",
            "\n",
            "king richard iii:\n",
            "a, betrume is brother's son with a sitle\n",
            "well peace to the foece moke a clarey.\n",
            "\n",
            "king richard iii:\n",
            "thence sil-now like me, and look the blood, \n",
            "------1------\n",
            "st.\n",
            "\n",
            "sampson:\n",
            "nay, as they dare. i will bither of to lespedchs last:\n",
            "combly ivllow of great achergetcer life,\n",
            "what gow'l leader's broy's your got are,\n",
            "the every fure me, yor for you, lord.\n",
            "\n",
            "duke of york:\n",
            "now, to long had carmeth  forcet that edwourd.\n",
            "\n",
            "asemby:\n",
            "peter, but,\n",
            "good lad, how beter sotlonest, ferll first,\n",
            "to this shall welten'dly a\n"
          ]
        }
      ]
    },
    {
      "cell_type": "code",
      "source": [],
      "metadata": {
        "id": "wipOptuw-NZa"
      },
      "execution_count": null,
      "outputs": []
    },
    {
      "cell_type": "markdown",
      "source": [
        "![image_2024-10-17_155430430.png](data:image/png;base64,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)"
      ],
      "metadata": {
        "id": "5emMkTOtAeAT"
      }
    },
    {
      "cell_type": "code",
      "source": [],
      "metadata": {
        "id": "VoMouvgt-NcW"
      },
      "execution_count": null,
      "outputs": []
    },
    {
      "cell_type": "code",
      "source": [],
      "metadata": {
        "id": "bnlq_SUF-Neh"
      },
      "execution_count": null,
      "outputs": []
    },
    {
      "cell_type": "markdown",
      "source": [],
      "metadata": {
        "id": "Km858B47-FLc"
      }
    }
  ]
}